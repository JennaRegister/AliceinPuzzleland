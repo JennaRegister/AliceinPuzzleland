{
 "cells": [
  {
   "cell_type": "markdown",
   "metadata": {},
   "source": [
    "# Alice in Puzzleland\n",
    "\n",
    "\n",
    "\n",
    "> “Mad Hatter: “Why is a raven like a writing-desk?”\n",
    "\n",
    ">“Have you guessed the riddle yet?” the Hatter said, turning to Alice again.\n",
    "\n",
    ">“No, I give it up,” Alice replied: “What’s the answer?”\n",
    "\n",
    ">“I haven’t the slightest idea,” said the Hatter” \n",
    "\n",
    ">>― Lewis Carroll, Alice in Wonderland\n",
    "\n",
    "### We are headed on a journey through a brain-wracking twist on Wonderland. Alice has tumbled down the Rabbit Hole and into the world of logic, math, and programming. Each turn brings a new, mad, puzzle. Alice is a very clever girl, however, and this is her story in Puzzleland. Help Alice solve her way through nonsense, where everything is \"curiouser and curiouser!\"\n",
    "\n",
    "<img src=\"https://62e528761d0685343e1c-f3d1b99a743ffa4142d9d7f1978d9686.ssl.cf2.rackcdn.com/files/87342/width926/image-20150703-20493-1aeooun.jpg\" width = 500px>\n",
    "\n",
    "\n",
    "\n"
   ]
  },
  {
   "cell_type": "markdown",
   "metadata": {},
   "source": [
    "### Down the Rabbit Hole\n",
    "Alice is falling down the rabbit hole, wondering which country she might be in. "
   ]
  },
  {
   "cell_type": "markdown",
   "metadata": {},
   "source": [
    "### The Pool of Tears\n",
    "\n",
    "Alice has discovered a room: There is a very small door, a very tall table, and very small key sitting upon that very tall table."
   ]
  },
  {
   "cell_type": "markdown",
   "metadata": {},
   "source": [
    "### Advice from a Caterpillar\n",
    "\n",
    "This caterpillar speaks in anagrams, palendromes, and other stringy messes."
   ]
  },
  {
   "cell_type": "markdown",
   "metadata": {},
   "source": [
    "### Pig and Pepper\n",
    "Is it a baby? Is it a pig? Let's do some feature recognition. Don't forget the ***noise*** from all the sneezing."
   ]
  },
  {
   "cell_type": "markdown",
   "metadata": {},
   "source": [
    "### The Mad Tea Party\n",
    "\n",
    "Constraint satisfaction... where are you allowed to sit when you move around?\n",
    "\n",
    "Logic and riddles\n",
    "\n",
    "Time is angry with us\n",
    "\n",
    "Happy Unbirthday"
   ]
  },
  {
   "cell_type": "markdown",
   "metadata": {},
   "source": [
    "### Who Stole the Tarts?\n",
    "\n",
    "Bayesian inference given Alice's evidence and the other evidence surrounding the charges"
   ]
  },
  {
   "cell_type": "code",
   "execution_count": null,
   "metadata": {
    "collapsed": true
   },
   "outputs": [],
   "source": []
  }
 ],
 "metadata": {
  "kernelspec": {
   "display_name": "Python 3",
   "language": "python",
   "name": "python3"
  },
  "language_info": {
   "codemirror_mode": {
    "name": "ipython",
    "version": 3
   },
   "file_extension": ".py",
   "mimetype": "text/x-python",
   "name": "python",
   "nbconvert_exporter": "python",
   "pygments_lexer": "ipython3",
   "version": "3.5.2"
  }
 },
 "nbformat": 4,
 "nbformat_minor": 0
}
